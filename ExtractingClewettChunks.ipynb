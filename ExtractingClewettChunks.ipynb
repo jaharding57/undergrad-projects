{
 "cells": [
  {
   "cell_type": "markdown",
   "id": "c630826e-12e5-4ec1-b0ed-1921824c94cf",
   "metadata": {},
   "source": [
    "**SEGMENTING MONGO'S MEGA-STRG, CODE-NAMED MONGOSTR**\n",
    "(gpt helped ig...)"
   ]
  },
  {
   "cell_type": "code",
   "execution_count": 4,
   "id": "ea8f3e76-97c8-42a6-a5d6-60355a31afc2",
   "metadata": {},
   "outputs": [
    {
     "name": "stdout",
     "output_type": "stream",
     "text": [
      "Segments saved to /Users/jman/Desktop/PSYCH 124C Lectures/Text versions/segged\n"
     ]
    }
   ],
   "source": [
    "def segment_string(input_string, max_length):\n",
    "    segments = []\n",
    "    current_segment = \"\"\n",
    "\n",
    "    for char in input_string:\n",
    "        if len(current_segment) + len(char) <= max_length:\n",
    "            current_segment += char\n",
    "        else:\n",
    "            segments.append(current_segment)\n",
    "            current_segment = char\n",
    "\n",
    "    if current_segment:\n",
    "        segments.append(current_segment)\n",
    "\n",
    "    return segments\n",
    "\n",
    "def read_string_from_file(file_path):\n",
    "    with open(file_path, 'r', encoding='utf-8') as file:\n",
    "        return file.read()\n",
    "\n",
    "def save_segment_to_file(segment, index, output_directory):\n",
    "    file_path = f\"{output_directory}/segment_{index}.txt\"\n",
    "    with open(file_path, 'w', encoding='utf-8') as output_file:\n",
    "        output_file.write(segment)\n",
    "\n",
    "# Replace 'your_file_path.txt' with the actual path to your .txt file\n",
    "file_path = '/Users/jman/Desktop/PSYCH 124C Lectures/Text versions/PSYCH124C(clewett)Mongo.txt'\n",
    "output_directory = '/Users/jman/Desktop/PSYCH 124C Lectures/Text versions/segged'\n",
    "mongostr = read_string_from_file(file_path)\n",
    "\n",
    "# Maximum length for each segment\n",
    "max_segment_length = 40000\n",
    "\n",
    "# Get segmented strings and save each segment to a separate file\n",
    "segments = segment_string(mongostr, max_segment_length)\n",
    "for i, segment in enumerate(segments):\n",
    "    save_segment_to_file(segment, i, output_directory)\n",
    "\n",
    "print(f\"Segments saved to {output_directory}\")\n"
   ]
  },
  {
   "cell_type": "code",
   "execution_count": null,
   "id": "213679dc-e56e-4403-95d3-ec48dd29d9de",
   "metadata": {},
   "outputs": [],
   "source": []
  }
 ],
 "metadata": {
  "kernelspec": {
   "display_name": "Python 3 (ipykernel)",
   "language": "python",
   "name": "python3"
  },
  "language_info": {
   "codemirror_mode": {
    "name": "ipython",
    "version": 3
   },
   "file_extension": ".py",
   "mimetype": "text/x-python",
   "name": "python",
   "nbconvert_exporter": "python",
   "pygments_lexer": "ipython3",
   "version": "3.9.12"
  }
 },
 "nbformat": 4,
 "nbformat_minor": 5
}
